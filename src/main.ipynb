{
 "cells": [
  {
   "cell_type": "code",
   "execution_count": 1,
   "metadata": {},
   "outputs": [],
   "source": [
    "GM12878_REP1 = \"./data/GM12878_ChIA-PET2_result/replicate1/GM12878.interactions.MICC\"\n",
    "GM12878_REP2 = \"./data/GM12878_ChIA-PET2_result/replicate2/GM12878.interactions.MICC\"\n",
    "K562_REP1 = \"./data/K562_ChIA-PET2_result/replicate1/K562.interactions.MICC\"\n",
    "K562_REP2 = \"./data/K562_ChIA-PET2_result/replicate2/K562.interactions.MICC\"\n",
    "files = [GM12878_REP1, GM12878_REP2, K562_REP1, K562_REP2]\n",
    "samples = [\"GM12878_rep1\", \"GM12878_rep2\", \"K562_rep1\", \"K562_rep2\"]\n",
    "groups = [\"GM12878\", \"GM12878\", \"K562\", \"K562\"]\n",
    "gap = 500\n",
    "blacklist_path = \"./data/blacklist/hg38-blacklist.v2.bed\"\n",
    "remove_loops_in_blacklist=True\n",
    "remove_self_ligated_loops=True\n",
    "fdr_threshold=0.01\n",
    "intra_only=True\n",
    "chr_filter=[\"chrM\", \"chrX\"]\n",
    "pet_threshold=5\n",
    "output_path = \"./data/my_test_data/\""
   ]
  },
  {
   "cell_type": "code",
   "execution_count": 10,
   "metadata": {},
   "outputs": [
    {
     "ename": "ImportError",
     "evalue": "module quality_control not in sys.modules",
     "output_type": "error",
     "traceback": [
      "\u001b[1;31m---------------------------------------------------------------------------\u001b[0m",
      "\u001b[1;31mImportError\u001b[0m                               Traceback (most recent call last)",
      "Cell \u001b[1;32mIn[10], line 4\u001b[0m\n\u001b[0;32m      2\u001b[0m \u001b[38;5;28;01mfrom\u001b[39;00m \u001b[38;5;21;01mnormalizer\u001b[39;00m \u001b[38;5;28;01mimport\u001b[39;00m normalize\n\u001b[0;32m      3\u001b[0m \u001b[38;5;28;01mimport\u001b[39;00m \u001b[38;5;21;01mimportlib\u001b[39;00m\n\u001b[1;32m----> 4\u001b[0m importlib\u001b[38;5;241m.\u001b[39mreload(quality_control)\n\u001b[0;32m      5\u001b[0m importlib\u001b[38;5;241m.\u001b[39mreload(normalize)\n",
      "File \u001b[1;32md:\\miniconda3\\envs\\dci\\Lib\\importlib\\__init__.py:148\u001b[0m, in \u001b[0;36mreload\u001b[1;34m(module)\u001b[0m\n\u001b[0;32m    146\u001b[0m \u001b[38;5;28;01mif\u001b[39;00m sys\u001b[38;5;241m.\u001b[39mmodules\u001b[38;5;241m.\u001b[39mget(name) \u001b[38;5;129;01mis\u001b[39;00m \u001b[38;5;129;01mnot\u001b[39;00m module:\n\u001b[0;32m    147\u001b[0m     msg \u001b[38;5;241m=\u001b[39m \u001b[38;5;124m\"\u001b[39m\u001b[38;5;124mmodule \u001b[39m\u001b[38;5;132;01m{}\u001b[39;00m\u001b[38;5;124m not in sys.modules\u001b[39m\u001b[38;5;124m\"\u001b[39m\n\u001b[1;32m--> 148\u001b[0m     \u001b[38;5;28;01mraise\u001b[39;00m \u001b[38;5;167;01mImportError\u001b[39;00m(msg\u001b[38;5;241m.\u001b[39mformat(name), name\u001b[38;5;241m=\u001b[39mname)\n\u001b[0;32m    149\u001b[0m \u001b[38;5;28;01mif\u001b[39;00m name \u001b[38;5;129;01min\u001b[39;00m _RELOADING:\n\u001b[0;32m    150\u001b[0m     \u001b[38;5;28;01mreturn\u001b[39;00m _RELOADING[name]\n",
      "\u001b[1;31mImportError\u001b[0m: module quality_control not in sys.modules"
     ]
    }
   ],
   "source": [
    "from quality_controller import quality_control\n",
    "from normalizer import normalize\n",
    "import importlib\n",
    "importlib.reload(quality_control)\n",
    "importlib.reload(normalize)"
   ]
  },
  {
   "cell_type": "code",
   "execution_count": 3,
   "metadata": {},
   "outputs": [
    {
     "name": "stdout",
     "output_type": "stream",
     "text": [
      "<FUNC> quality_control\n",
      "<FUNC> combine_anchors\n",
      "[INFO] old peaks num: 182252 , combined anchors num: 120590\n",
      "<FUNC> get_blacklist\n",
      "<FUNC> replace anchors in ./data/GM12878_ChIA-PET2_result/replicate1/GM12878.interactions.MICC\n",
      "[INFO] inter-chromosome loop num: 9506\n",
      "[INFO] chr filter loop num: 5569\n",
      "[INFO] self-ligated loop num: 170\n",
      "[INFO] FDR > 0.01 loop num: 212750\n",
      "[INFO] loop in blacklist num: 1410\n",
      "<FUNC> replace anchors in ./data/GM12878_ChIA-PET2_result/replicate2/GM12878.interactions.MICC\n",
      "[INFO] inter-chromosome loop num: 407\n",
      "[INFO] chr filter loop num: 391\n",
      "[INFO] self-ligated loop num: 36\n",
      "[INFO] FDR > 0.01 loop num: 19393\n",
      "[INFO] loop in blacklist num: 101\n",
      "<FUNC> replace anchors in ./data/K562_ChIA-PET2_result/replicate1/K562.interactions.MICC\n",
      "[INFO] inter-chromosome loop num: 479\n",
      "[INFO] chr filter loop num: 398\n",
      "[INFO] self-ligated loop num: 79\n",
      "[INFO] FDR > 0.01 loop num: 16558\n",
      "[INFO] loop in blacklist num: 103\n",
      "<FUNC> replace anchors in ./data/K562_ChIA-PET2_result/replicate2/K562.interactions.MICC\n",
      "[INFO] inter-chromosome loop num: 630\n",
      "[INFO] chr filter loop num: 505\n",
      "[INFO] self-ligated loop num: 99\n",
      "[INFO] FDR > 0.01 loop num: 19350\n",
      "[INFO] loop in blacklist num: 166\n",
      "<FUNC> remove_by_inconsistent_PETs_between_replicates\n",
      "[INFO] remove inconsistent PETs between replicates in group: K562\n",
      "[INFO] 2 replicates in group: K562\n",
      "[INFO] remove inconsistent PETs num: 757 in group: K562\n",
      "[INFO] remove inconsistent PETs between replicates in group: GM12878\n",
      "[INFO] 2 replicates in group: GM12878\n",
      "[INFO] remove inconsistent PETs num: 19134 in group: GM12878\n"
     ]
    }
   ],
   "source": [
    "data = quality_control(files=files,\n",
    "                        samples=samples,\n",
    "                        groups=groups,\n",
    "                        blacklist_path=blacklist_path,\n",
    "                        gap=gap,\n",
    "                        remove_loops_in_blacklist=remove_loops_in_blacklist,\n",
    "                        remove_self_ligated_loops=remove_self_ligated_loops,\n",
    "                        fdr_threshold=fdr_threshold,\n",
    "                        intra_only=intra_only,\n",
    "                        chr_filter=chr_filter,\n",
    "                        pet_threshold=pet_threshold,\n",
    "                        output_path=output_path)"
   ]
  },
  {
   "cell_type": "code",
   "execution_count": 9,
   "metadata": {},
   "outputs": [
    {
     "name": "stdout",
     "output_type": "stream",
     "text": [
      "<FUNC> normalize\n",
      "<FUNC> get_common_loops_for_two_samples\n",
      "<FUNC> compute_D_for_two_samples\n",
      "<FUNC> compute_M_for_two_samples\n",
      "2532\n",
      "2532\n",
      "<class 'numpy.ndarray'>\n",
      "(2532, 2)\n",
      "[[2.51250000e+03 1.76015000e+00]\n",
      " [2.61650000e+03 1.75545255e+00]\n",
      " [2.80350000e+03 1.74697928e+00]\n",
      " [2.84700000e+03 1.74500282e+00]\n",
      " [2.85900000e+03 1.74445720e+00]]\n",
      "<FUNC> draw_MD_scatter_plot\n"
     ]
    }
   ],
   "source": [
    "normalize(data, output_path)"
   ]
  }
 ],
 "metadata": {
  "kernelspec": {
   "display_name": "dci",
   "language": "python",
   "name": "python3"
  },
  "language_info": {
   "codemirror_mode": {
    "name": "ipython",
    "version": 3
   },
   "file_extension": ".py",
   "mimetype": "text/x-python",
   "name": "python",
   "nbconvert_exporter": "python",
   "pygments_lexer": "ipython3",
   "version": "3.11.5"
  }
 },
 "nbformat": 4,
 "nbformat_minor": 2
}
